{
 "cells": [
  {
   "cell_type": "markdown",
   "metadata": {},
   "source": [
    "** Two stage problem. **\n",
    "* Default Classifier: Use AUC or F1-score to evaluate performance because of class imbalance.\n",
    "* Default Loss: Use MAE ( Evaluation metric ) to evaluate performance"
   ]
  },
  {
   "cell_type": "code",
   "execution_count": 16,
   "metadata": {
    "collapsed": false
   },
   "outputs": [],
   "source": [
    "%matplotlib inline\n",
    "\n",
    "import pandas as pd\n",
    "import numpy as np\n",
    "import os, sys\n",
    "\n",
    "from sklearn.cross_validation import train_test_split, StratifiedKFold\n",
    "from sklearn.metrics import mean_absolute_error\n",
    "from sklearn.pipeline import Pipeline, FeatureUnion\n",
    "from sklearn.preprocessing import MinMaxScaler, Imputer\n",
    "from sklearn.ensemble import RandomForestRegressor, RandomForestClassifier, GradientBoostingClassifier\n",
    "from sklearn.ensemble import ExtraTreesClassifier\n",
    "from sklearn.feature_selection import f_regression, SelectKBest\n",
    "from sklearn.linear_model import LogisticRegression\n",
    "from sklearn.metrics import roc_auc_score, f1_score\n",
    "\n",
    "import xgboost as xgb\n",
    "\n",
    "import matplotlib.pyplot as plt\n",
    "import seaborn as sns\n",
    "\n",
    "import warnings\n",
    "warnings.filterwarnings('ignore')\n",
    "\n",
    "np.random.seed(3)\n",
    "\n",
    "basepath = os.path.expanduser('~/Desktop/src/Loan_Default_Prediction/')\n",
    "sys.path.append(os.path.join(basepath, 'src'))\n",
    "\n",
    "from data import *\n",
    "from features import *"
   ]
  },
  {
   "cell_type": "code",
   "execution_count": 4,
   "metadata": {
    "collapsed": false
   },
   "outputs": [],
   "source": [
    "train  = pd.read_csv(os.path.join(basepath, 'data/raw/train_v2.csv'),\n",
    "                     index_col='id',\n",
    "                     dtype=np.float32\n",
    "                    )\n",
    "# test   = pd.read_csv(os.path.join(basepath, 'data/raw/test_v2.csv'), index_col='id')\n",
    "# sample_sub = pd.read_csv(os.path.join(basepath, 'data/raw/sampleSubmission.csv'))"
   ]
  },
  {
   "cell_type": "code",
   "execution_count": 5,
   "metadata": {
    "collapsed": false
   },
   "outputs": [],
   "source": [
    "# loss target\n",
    "train['is_default'] = (train.loss > 0).astype(np.int)"
   ]
  },
  {
   "cell_type": "markdown",
   "metadata": {},
   "source": [
    "** Training examples are in the chronological order but not in the test set. **"
   ]
  },
  {
   "cell_type": "code",
   "execution_count": 6,
   "metadata": {
    "collapsed": false
   },
   "outputs": [],
   "source": [
    "train = train.iloc[np.random.permutation(len(train))] # shuffle training set."
   ]
  },
  {
   "cell_type": "code",
   "execution_count": 7,
   "metadata": {
    "collapsed": false
   },
   "outputs": [],
   "source": [
    "# features to remove from training set\n",
    "features_to_remove = ['f33', 'f678', 'f37', 'f764', 'f700', \\\n",
    "                      'f34', 'f38', 'f702', 'f701', 'f736', 'f35']\n",
    "\n",
    "features_to_remove.extend(['is_default', 'loss'])"
   ]
  },
  {
   "cell_type": "code",
   "execution_count": 8,
   "metadata": {
    "collapsed": false
   },
   "outputs": [],
   "source": [
    "itrain, itest = get_stratified_sample(train, train.is_default, train_size=.2, random_state=11)\n",
    "\n",
    "X_train = train.iloc[itrain][train.columns.drop(features_to_remove)]\n",
    "X_test  = train.iloc[itest][train.columns.drop(features_to_remove)]\n",
    "\n",
    "y_train = train.is_default.iloc[itrain]\n",
    "y_test  = train.is_default.iloc[itest] "
   ]
  },
  {
   "cell_type": "code",
   "execution_count": 9,
   "metadata": {
    "collapsed": false
   },
   "outputs": [
    {
     "name": "stdout",
     "output_type": "stream",
     "text": [
      "(21094, 758) (84377, 758)\n"
     ]
    }
   ],
   "source": [
    "print(X_train.shape, X_test.shape)"
   ]
  },
  {
   "cell_type": "markdown",
   "metadata": {},
   "source": [
    "** Two Step Modelling. **"
   ]
  },
  {
   "cell_type": "markdown",
   "metadata": {},
   "source": [
    "* Pipeline for predicting whether there was any loss.\n",
    "* Pipeline to predict the actual value in case any loss was incurred."
   ]
  },
  {
   "cell_type": "code",
   "execution_count": 18,
   "metadata": {
    "collapsed": false
   },
   "outputs": [],
   "source": [
    "pipeline_default = Pipeline([\n",
    "        ('feature_union', FeatureUnion([\n",
    "                    ('golden_feature', GoldenFeatures())\n",
    "                ])),\n",
    "        ('imputer', Imputer()),\n",
    "        ('scaler', MinMaxScaler()),\n",
    "        ('select', TreeBasedSelection(ExtraTreesClassifier(), y_train, n_features_to_select=30)),\n",
    "        ('union', FeatureUnion([\n",
    "                    ('feature_interaction', FeatureInteraction())\n",
    "                ])),\n",
    "        ('model', RandomForestClassifier(n_estimators=25, n_jobs=2, random_state=5))\n",
    "    ])"
   ]
  },
  {
   "cell_type": "code",
   "execution_count": 19,
   "metadata": {
    "collapsed": false
   },
   "outputs": [
    {
     "data": {
      "text/plain": [
       "Pipeline(steps=[('feature_union', FeatureUnion(n_jobs=1,\n",
       "       transformer_list=[('golden_feature', GoldenFeatures())],\n",
       "       transformer_weights=None)), ('imputer', Imputer(axis=0, copy=True, missing_values='NaN', strategy='mean', verbose=0)), ('scaler', MinMaxScaler(copy=True, feature_range=(0, 1))), ('s...estimators=25, n_jobs=2,\n",
       "            oob_score=False, random_state=5, verbose=0, warm_start=False))])"
      ]
     },
     "execution_count": 19,
     "metadata": {},
     "output_type": "execute_result"
    }
   ],
   "source": [
    "pipeline_default.fit(X_train, y_train)"
   ]
  },
  {
   "cell_type": "code",
   "execution_count": 22,
   "metadata": {
    "collapsed": false
   },
   "outputs": [
    {
     "name": "stdout",
     "output_type": "stream",
     "text": [
      "AUC score: 0.986068\n",
      "F1 score: 0.801074\n"
     ]
    }
   ],
   "source": [
    "yhat  = pipeline_default.predict_proba(X_test)[:, 1]\n",
    "ypred = pipeline_default.predict(X_test)\n",
    "print('AUC score: %f'%(roc_auc_score(y_test, yhat)))\n",
    "print('F1 score: %f'%(f1_score(y_test, ypred)))"
   ]
  },
  {
   "cell_type": "markdown",
   "metadata": {},
   "source": [
    "** Submission **"
   ]
  },
  {
   "cell_type": "code",
   "execution_count": null,
   "metadata": {
    "collapsed": true
   },
   "outputs": [],
   "source": [
    "sample_sub = pd.read_csv(os.path.join(basepath, 'data/raw/sampleSubmission.csv'))"
   ]
  },
  {
   "cell_type": "code",
   "execution_count": null,
   "metadata": {
    "collapsed": false
   },
   "outputs": [],
   "source": [
    "sample_sub['loss'] = loss\n",
    "sample_sub.to_csv(os.path.join(basepath, 'submissions/baseline.csv'), index=False)"
   ]
  },
  {
   "cell_type": "code",
   "execution_count": null,
   "metadata": {
    "collapsed": true
   },
   "outputs": [],
   "source": []
  }
 ],
 "metadata": {
  "anaconda-cloud": {},
  "kernelspec": {
   "display_name": "Python [Root]",
   "language": "python",
   "name": "Python [Root]"
  },
  "language_info": {
   "codemirror_mode": {
    "name": "ipython",
    "version": 3
   },
   "file_extension": ".py",
   "mimetype": "text/x-python",
   "name": "python",
   "nbconvert_exporter": "python",
   "pygments_lexer": "ipython3",
   "version": "3.5.2"
  }
 },
 "nbformat": 4,
 "nbformat_minor": 0
}
