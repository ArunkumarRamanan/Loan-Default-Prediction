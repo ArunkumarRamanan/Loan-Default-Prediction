{
 "cells": [
  {
   "cell_type": "code",
   "execution_count": 37,
   "metadata": {
    "collapsed": true
   },
   "outputs": [],
   "source": [
    "import pandas as pd\n",
    "import numpy as np\n",
    "import os, sys\n",
    "\n",
    "from sklearn.cross_validation import train_test_split, StratifiedKFold\n",
    "from sklearn.metrics import mean_absolute_error\n",
    "from sklearn.pipeline import Pipeline\n",
    "from sklearn.preprocessing import StandardScaler\n",
    "from sklearn.ensemble import RandomForestRegressor, GradientBoostingRegressor\n",
    "from sklearn.linear_model import Lasso\n",
    "\n",
    "import warnings\n",
    "warnings.filterwarnings('ignore')\n",
    "\n",
    "np.random.seed(3)\n",
    "\n",
    "basepath = os.path.expanduser('~/Desktop/src/Loan_Default_Prediction/')\n",
    "sys.path.append(os.path.join(basepath, 'src'))"
   ]
  },
  {
   "cell_type": "code",
   "execution_count": 2,
   "metadata": {
    "collapsed": true
   },
   "outputs": [],
   "source": [
    "train  = pd.read_csv(os.path.join(basepath, 'data/processed/train_sub.csv'))\n",
    "test   = pd.read_csv(os.path.join(basepath, 'data/processed/test_sub.csv'))\n",
    "target = pd.read_csv(os.path.join(basepath, 'data/processed/target.csv'))"
   ]
  },
  {
   "cell_type": "markdown",
   "metadata": {},
   "source": [
    "** Training examples are in the chronological order but not in the test set. **"
   ]
  },
  {
   "cell_type": "code",
   "execution_count": 3,
   "metadata": {
    "collapsed": false
   },
   "outputs": [],
   "source": [
    "train = train.iloc[np.random.permutation(len(train))] # shuffle training set."
   ]
  },
  {
   "cell_type": "markdown",
   "metadata": {},
   "source": [
    "** Fill missing values. **"
   ]
  },
  {
   "cell_type": "code",
   "execution_count": 4,
   "metadata": {
    "collapsed": true
   },
   "outputs": [],
   "source": [
    "train = train.fillna(-999) # fill missing values\n",
    "test  = test.fillna(-999)"
   ]
  },
  {
   "cell_type": "markdown",
   "metadata": {},
   "source": [
    "** Split dataset **"
   ]
  },
  {
   "cell_type": "code",
   "execution_count": 5,
   "metadata": {
    "collapsed": false
   },
   "outputs": [],
   "source": [
    "itrain, itest = train_test_split(range(len(train)), test_size=0.75, random_state=10)\n",
    "\n",
    "X_train = train.iloc[itrain]\n",
    "X_test  = train.iloc[itest]\n",
    "\n",
    "y_train = target['loss'].iloc[itrain]\n",
    "y_test  = target['loss'].iloc[itest]"
   ]
  },
  {
   "cell_type": "code",
   "execution_count": 27,
   "metadata": {
    "collapsed": false
   },
   "outputs": [],
   "source": [
    "def cv(estimators, X, y):\n",
    "    skf = StratifiedKFold(y, n_folds=3, shuffle=True, random_state=12)\n",
    "    best_estimators = [] # list of best estimators \n",
    "    scores = [] # mae score for every fold\n",
    "    \n",
    "    for itrain, itest in skf:\n",
    "        Xtr = X[itrain]\n",
    "        Xte = X[itest]\n",
    "        \n",
    "        ytr = y[itrain]\n",
    "        yte = y[itest]\n",
    "        \n",
    "        min_score = np.Infinity\n",
    "        \n",
    "        for est in estimators:\n",
    "            est.fit(Xtr, ytr)\n",
    "            pred = est.predict(Xte)\n",
    "            score = mean_absolute_error(yte, pred)\n",
    "            \n",
    "            if score < min_score:\n",
    "                min_score      = score\n",
    "                best_estimator = est\n",
    "        \n",
    "        best_estimators.append(best_estimator)\n",
    "        scores.append(min_score)\n",
    "    \n",
    "    return best_estimators, scores"
   ]
  },
  {
   "cell_type": "code",
   "execution_count": 39,
   "metadata": {
    "collapsed": true
   },
   "outputs": [],
   "source": [
    "pipeline_rf = Pipeline([\n",
    "        ('scale', StandardScaler()),\n",
    "        ('model', RandomForestRegressor(n_estimators=50, max_depth=3, random_state=11, n_jobs=3))\n",
    "    ])\n",
    "\n",
    "pipeline_linear = Pipeline([\n",
    "        ('scale', StandardScaler()),\n",
    "        ('model', Lasso())\n",
    "    ])\n",
    "\n",
    "pipeline_gbr = Pipeline([\n",
    "        ('model', GradientBoostingRegressor(n_estimators=50))\n",
    "    ])"
   ]
  },
  {
   "cell_type": "code",
   "execution_count": 40,
   "metadata": {
    "collapsed": false
   },
   "outputs": [],
   "source": [
    "best_ests, scores = cv([pipeline_linear, pipeline_rf, pipeline_gbr], X_train.values, y_train.values)"
   ]
  },
  {
   "cell_type": "code",
   "execution_count": 41,
   "metadata": {
    "collapsed": false
   },
   "outputs": [
    {
     "data": {
      "text/plain": [
       "[Pipeline(steps=[('scale', StandardScaler(copy=True, with_mean=True, with_std=True)), ('model', RandomForestRegressor(bootstrap=True, criterion='mse', max_depth=3,\n",
       "            max_features='auto', max_leaf_nodes=None, min_samples_leaf=1,\n",
       "            min_samples_split=2, min_weight_fraction_leaf=0.0,\n",
       "            n_estimators=50, n_jobs=3, oob_score=False, random_state=11,\n",
       "            verbose=0, warm_start=False))]),\n",
       " Pipeline(steps=[('scale', StandardScaler(copy=True, with_mean=True, with_std=True)), ('model', Lasso(alpha=1.0, copy_X=True, fit_intercept=True, max_iter=1000,\n",
       "    normalize=False, positive=False, precompute=False, random_state=None,\n",
       "    selection='cyclic', tol=0.0001, warm_start=False))]),\n",
       " Pipeline(steps=[('scale', StandardScaler(copy=True, with_mean=True, with_std=True)), ('model', Lasso(alpha=1.0, copy_X=True, fit_intercept=True, max_iter=1000,\n",
       "    normalize=False, positive=False, precompute=False, random_state=None,\n",
       "    selection='cyclic', tol=0.0001, warm_start=False))])]"
      ]
     },
     "execution_count": 41,
     "metadata": {},
     "output_type": "execute_result"
    }
   ],
   "source": [
    "best_ests"
   ]
  },
  {
   "cell_type": "code",
   "execution_count": 42,
   "metadata": {
    "collapsed": false
   },
   "outputs": [
    {
     "data": {
      "text/plain": [
       "[1.4759880409888966, 1.4798356951500189, 1.4687342162506365]"
      ]
     },
     "execution_count": 42,
     "metadata": {},
     "output_type": "execute_result"
    }
   ],
   "source": [
    "scores"
   ]
  },
  {
   "cell_type": "code",
   "execution_count": 43,
   "metadata": {
    "collapsed": false
   },
   "outputs": [
    {
     "name": "stdout",
     "output_type": "stream",
     "text": [
      "MAE Random Forest Regressor  1.46366763205\n"
     ]
    }
   ],
   "source": [
    "# test on the held out examples\n",
    "pipeline_rf.fit(X_train, y_train)\n",
    "print('MAE Random Forest Regressor ', mean_absolute_error(y_test, pipeline_rf.predict(X_test)))"
   ]
  },
  {
   "cell_type": "code",
   "execution_count": 45,
   "metadata": {
    "collapsed": false
   },
   "outputs": [
    {
     "name": "stdout",
     "output_type": "stream",
     "text": [
      "MAE Lasso Regression  1.45967873808\n"
     ]
    }
   ],
   "source": [
    "pipeline_linear.fit(X_train, y_train)\n",
    "print('MAE Lasso Regression ', mean_absolute_error(y_test, pipeline_linear.predict(X_test)))"
   ]
  },
  {
   "cell_type": "code",
   "execution_count": 46,
   "metadata": {
    "collapsed": true
   },
   "outputs": [],
   "source": [
    "# train on the full dataset\n",
    "pipeline_linear.fit(train, target)\n",
    "loss = pipeline_linear.predict(test)"
   ]
  },
  {
   "cell_type": "code",
   "execution_count": 47,
   "metadata": {
    "collapsed": true
   },
   "outputs": [],
   "source": [
    "sample_sub = pd.read_csv(os.path.join(basepath, 'data/raw/sampleSubmission.csv'))"
   ]
  },
  {
   "cell_type": "code",
   "execution_count": 50,
   "metadata": {
    "collapsed": false
   },
   "outputs": [],
   "source": [
    "sample_sub['loss'] = loss\n",
    "sample_sub.to_csv(os.path.join(basepath, 'submissions/baseline.csv'), index=False)"
   ]
  },
  {
   "cell_type": "code",
   "execution_count": null,
   "metadata": {
    "collapsed": true
   },
   "outputs": [],
   "source": []
  }
 ],
 "metadata": {
  "anaconda-cloud": {},
  "kernelspec": {
   "display_name": "Python [Root]",
   "language": "python",
   "name": "Python [Root]"
  },
  "language_info": {
   "codemirror_mode": {
    "name": "ipython",
    "version": 3
   },
   "file_extension": ".py",
   "mimetype": "text/x-python",
   "name": "python",
   "nbconvert_exporter": "python",
   "pygments_lexer": "ipython3",
   "version": "3.5.2"
  }
 },
 "nbformat": 4,
 "nbformat_minor": 0
}
