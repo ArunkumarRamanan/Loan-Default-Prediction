{
 "cells": [
  {
   "cell_type": "markdown",
   "metadata": {},
   "source": [
    "** Two stage problem. **\n",
    "* Default Classifier: Use AUC or F1-score to evaluate performance because of class imbalance.\n",
    "* Default Loss: Use MAE ( Evaluation metric ) to evaluate performance"
   ]
  },
  {
   "cell_type": "code",
   "execution_count": 50,
   "metadata": {
    "collapsed": true
   },
   "outputs": [],
   "source": [
    "%matplotlib inline\n",
    "\n",
    "import pandas as pd\n",
    "import numpy as np\n",
    "import os, sys\n",
    "\n",
    "from sklearn.cross_validation import train_test_split, StratifiedKFold\n",
    "from sklearn.metrics import mean_absolute_error\n",
    "from sklearn.pipeline import Pipeline\n",
    "from sklearn.preprocessing import StandardScaler, Imputer\n",
    "from sklearn.ensemble import RandomForestRegressor\n",
    "from sklearn.feature_selection import f_regression, SelectKBest\n",
    "from sklearn.linear_model import Lasso\n",
    "\n",
    "import xgboost as xgb\n",
    "\n",
    "import matplotlib.pyplot as plt\n",
    "import seaborn as sns\n",
    "\n",
    "import warnings\n",
    "warnings.filterwarnings('ignore')\n",
    "\n",
    "np.random.seed(3)\n",
    "\n",
    "basepath = os.path.expanduser('~/Desktop/src/Loan_Default_Prediction/')\n",
    "sys.path.append(os.path.join(basepath, 'src'))"
   ]
  },
  {
   "cell_type": "code",
   "execution_count": 38,
   "metadata": {
    "collapsed": false
   },
   "outputs": [],
   "source": [
    "train  = pd.read_csv(os.path.join(basepath, 'data/raw/train_v2.csv'),\n",
    "                     index_col='id',\n",
    "                     dtype=np.float32\n",
    "                    )\n",
    "# test   = pd.read_csv(os.path.join(basepath, 'data/raw/test_v2.csv'), index_col='id')\n",
    "# sample_sub = pd.read_csv(os.path.join(basepath, 'data/raw/sampleSubmission.csv'))"
   ]
  },
  {
   "cell_type": "code",
   "execution_count": 40,
   "metadata": {
    "collapsed": false
   },
   "outputs": [],
   "source": [
    "# loss target\n",
    "train['is_loss'] = (train.loss > 0).astype(np.int)"
   ]
  },
  {
   "cell_type": "markdown",
   "metadata": {},
   "source": [
    "** Training examples are in the chronological order but not in the test set. **"
   ]
  },
  {
   "cell_type": "code",
   "execution_count": 41,
   "metadata": {
    "collapsed": false
   },
   "outputs": [],
   "source": [
    "train = train.iloc[np.random.permutation(len(train))] # shuffle training set."
   ]
  },
  {
   "cell_type": "code",
   "execution_count": 43,
   "metadata": {
    "collapsed": true
   },
   "outputs": [],
   "source": [
    "# features to remove from training set\n",
    "features_to_remove = ['f33', 'f678', 'f37', 'f764', 'f700', \\\n",
    "                      'f34', 'f38', 'f702', 'f701', 'f736', 'f35', 'loss',\n",
    "                      'is_loss']"
   ]
  },
  {
   "cell_type": "markdown",
   "metadata": {},
   "source": [
    "** Split dataset **"
   ]
  },
  {
   "cell_type": "code",
   "execution_count": 45,
   "metadata": {
    "collapsed": false
   },
   "outputs": [],
   "source": [
    "itrain, itest = train_test_split(range(len(train)), test_size=0.3, random_state=10)\n",
    "\n",
    "X_train = train.iloc[itrain][train.columns.drop(features_to_remove)]\n",
    "X_test  = train.iloc[itest][train.columns.drop(features_to_remove)]\n",
    "\n",
    "y_train = train['is_loss'].iloc[itrain]\n",
    "y_test  = train['is_loss'].iloc[itest]"
   ]
  },
  {
   "cell_type": "markdown",
   "metadata": {},
   "source": [
    "** Feature Importance (Default Classifier) **"
   ]
  },
  {
   "cell_type": "code",
   "execution_count": 46,
   "metadata": {
    "collapsed": true
   },
   "outputs": [],
   "source": [
    "def get_xgb_imp(trained_xgb, feature_names):\n",
    "    imp_vals = trained_xgb.booster().get_fscore()\n",
    "    imp_dict = {feature_names[i]:float(imp_vals.get(feature_names[i],0.)) for i in range(len(feature_names))}\n",
    "    \n",
    "    return pd.DataFrame.from_dict(imp_dict, orient='index')"
   ]
  },
  {
   "cell_type": "code",
   "execution_count": 48,
   "metadata": {
    "collapsed": false
   },
   "outputs": [
    {
     "data": {
      "text/plain": [
       "Pipeline(steps=[('imputer', Imputer(axis=0, copy=True, missing_values='NaN', strategy='mean', verbose=0)), ('model', XGBClassifier(base_score=0.5, colsample_bylevel=1, colsample_bytree=1,\n",
       "       gamma=0, learning_rate=0.1, max_delta_step=0, max_depth=3,\n",
       "       min_child_weight=1, missing=None, n_estimators=100, nthread=-1,\n",
       "       objective='binary:logistic', reg_alpha=0, reg_lambda=1,\n",
       "       scale_pos_weight=1, seed=0, silent=True, subsample=1))])"
      ]
     },
     "execution_count": 48,
     "metadata": {},
     "output_type": "execute_result"
    }
   ],
   "source": [
    "pipeline = Pipeline([\n",
    "        ('imputer', Imputer()),\n",
    "        ('model', xgb.XGBClassifier())\n",
    "    ])\n",
    "\n",
    "pipeline.fit(X_train, y_train)"
   ]
  },
  {
   "cell_type": "code",
   "execution_count": 58,
   "metadata": {
    "collapsed": false,
    "scrolled": true
   },
   "outputs": [
    {
     "name": "stdout",
     "output_type": "stream",
     "text": [
      "Feature Importance ( XGBoost): \n",
      "\n",
      "         0\n",
      "f657  64.0\n",
      "f1    32.0\n",
      "f460  30.0\n",
      "f59   25.0\n",
      "f653  18.0\n",
      "f263  17.0\n",
      "f743  16.0\n",
      "f523  15.0\n",
      "f453  13.0\n",
      "f501  11.0\n"
     ]
    }
   ],
   "source": [
    "feat_importance = get_xgb_imp(pipeline.get_params()['model'], X_train.columns)\n",
    "print('Feature Importance ( XGBoost): \\n')\n",
    "print(feat_importance.sort_values(by=0, ascending=False).iloc[:10])"
   ]
  },
  {
   "cell_type": "code",
   "execution_count": null,
   "metadata": {
    "collapsed": true
   },
   "outputs": [],
   "source": []
  },
  {
   "cell_type": "code",
   "execution_count": 35,
   "metadata": {
    "collapsed": false
   },
   "outputs": [],
   "source": [
    "def cv(estimators, X, y):\n",
    "    skf = StratifiedKFold(y, n_folds=3, shuffle=True, random_state=12)\n",
    "    best_estimators = [] # list of best estimators \n",
    "    scores = [] # mae score for every fold\n",
    "    \n",
    "    for itrain, itest in skf:\n",
    "        Xtr = X[itrain]\n",
    "        Xte = X[itest]\n",
    "        \n",
    "        ytr = y[itrain]\n",
    "        yte = y[itest]\n",
    "        \n",
    "        min_score = np.Infinity\n",
    "        \n",
    "        for est in estimators:\n",
    "            est.fit(Xtr, ytr)\n",
    "            pred = est.predict(Xte)\n",
    "            score = mean_absolute_error(yte, pred)\n",
    "            \n",
    "            if score < min_score:\n",
    "                min_score      = score\n",
    "                best_estimator = est\n",
    "        \n",
    "        best_estimators.append(best_estimator)\n",
    "        scores.append(min_score)\n",
    "    \n",
    "    return best_estimators, scores"
   ]
  },
  {
   "cell_type": "code",
   "execution_count": 36,
   "metadata": {
    "collapsed": false
   },
   "outputs": [],
   "source": [
    "pipeline_rf = Pipeline([\n",
    "        ('imputer', Imputer()),\n",
    "        ('select', SelectKBest(f_regression, k=100)),\n",
    "        ('model', RandomForestRegressor(random_state=3, n_jobs=3))\n",
    "    ])\n",
    "\n",
    "pipeline_linear = Pipeline([\n",
    "        ('imputer', Imputer()),\n",
    "        ('scale', StandardScaler()),\n",
    "        ('select', SelectKBest(f_regression, k=100)),\n",
    "        ('model', Lasso(random_state=3))\n",
    "    ])\n",
    "\n",
    "# pipeline_gbr = Pipeline([\n",
    "#         ('imputer', Imputer()),\n",
    "#         ('select', SelectKBest(f_classif, k=100)),\n",
    "#         ('model', GradientBoostingRegressor(random_state=3))\n",
    "#     ])"
   ]
  },
  {
   "cell_type": "code",
   "execution_count": null,
   "metadata": {
    "collapsed": false
   },
   "outputs": [],
   "source": [
    "best_ests, scores = cv([pipeline_linear, pipeline_rf, pipeline_gbr], X_train.values, y_train.values)"
   ]
  },
  {
   "cell_type": "code",
   "execution_count": 24,
   "metadata": {
    "collapsed": false
   },
   "outputs": [
    {
     "data": {
      "text/plain": [
       "[Pipeline(steps=[('imputer', Imputer(axis=0, copy=True, missing_values='NaN', strategy='mean', verbose=0)), ('scale', StandardScaler(copy=True, with_mean=True, with_std=True)), ('select', SelectKBest(k=100, score_func=<function f_classif at 0x7f0ce5e02e18>)), ('model', Lasso(alpha=1.0, copy_X=True, fit_intercept=True, max_iter=1000,\n",
       "    normalize=False, positive=False, precompute=False, random_state=3,\n",
       "    selection='cyclic', tol=0.0001, warm_start=False))]),\n",
       " Pipeline(steps=[('imputer', Imputer(axis=0, copy=True, missing_values='NaN', strategy='mean', verbose=0)), ('scale', StandardScaler(copy=True, with_mean=True, with_std=True)), ('select', SelectKBest(k=100, score_func=<function f_classif at 0x7f0ce5e02e18>)), ('model', Lasso(alpha=1.0, copy_X=True, fit_intercept=True, max_iter=1000,\n",
       "    normalize=False, positive=False, precompute=False, random_state=3,\n",
       "    selection='cyclic', tol=0.0001, warm_start=False))]),\n",
       " Pipeline(steps=[('imputer', Imputer(axis=0, copy=True, missing_values='NaN', strategy='mean', verbose=0)), ('scale', StandardScaler(copy=True, with_mean=True, with_std=True)), ('select', SelectKBest(k=100, score_func=<function f_classif at 0x7f0ce5e02e18>)), ('model', Lasso(alpha=1.0, copy_X=True, fit_intercept=True, max_iter=1000,\n",
       "    normalize=False, positive=False, precompute=False, random_state=3,\n",
       "    selection='cyclic', tol=0.0001, warm_start=False))])]"
      ]
     },
     "execution_count": 24,
     "metadata": {},
     "output_type": "execute_result"
    }
   ],
   "source": [
    "best_ests"
   ]
  },
  {
   "cell_type": "code",
   "execution_count": 25,
   "metadata": {
    "collapsed": false
   },
   "outputs": [
    {
     "data": {
      "text/plain": [
       "[1.4506707830779793, 1.4357816056997013, 1.4294655744290388]"
      ]
     },
     "execution_count": 25,
     "metadata": {},
     "output_type": "execute_result"
    }
   ],
   "source": [
    "scores"
   ]
  },
  {
   "cell_type": "code",
   "execution_count": 13,
   "metadata": {
    "collapsed": false
   },
   "outputs": [
    {
     "name": "stdout",
     "output_type": "stream",
     "text": [
      "MAE Random Forest Regressor  0.00916973702793\n"
     ]
    }
   ],
   "source": [
    "# test on the held out examples\n",
    "best_ests[0].fit(X_train, y_train)\n",
    "print('MAE Random Forest Regressor ', mean_absolute_error(y_test, best_ests[0].predict(X_test)))"
   ]
  },
  {
   "cell_type": "code",
   "execution_count": 14,
   "metadata": {
    "collapsed": false
   },
   "outputs": [
    {
     "name": "stdout",
     "output_type": "stream",
     "text": [
      "MAE Lasso Regression  0.00916903832835\n"
     ]
    }
   ],
   "source": [
    "best_ests[1].fit(X_train, y_train)\n",
    "print('MAE Lasso Regression ', mean_absolute_error(y_test, best_ests[1].predict(X_test)))"
   ]
  },
  {
   "cell_type": "code",
   "execution_count": 46,
   "metadata": {
    "collapsed": true
   },
   "outputs": [],
   "source": [
    "# train on the full dataset\n",
    "best_ests[2].fit(train, target)\n",
    "loss = pipeline_linear.predict(test)"
   ]
  },
  {
   "cell_type": "code",
   "execution_count": 47,
   "metadata": {
    "collapsed": true
   },
   "outputs": [],
   "source": [
    "sample_sub = pd.read_csv(os.path.join(basepath, 'data/raw/sampleSubmission.csv'))"
   ]
  },
  {
   "cell_type": "code",
   "execution_count": 50,
   "metadata": {
    "collapsed": false
   },
   "outputs": [],
   "source": [
    "sample_sub['loss'] = loss\n",
    "sample_sub.to_csv(os.path.join(basepath, 'submissions/baseline.csv'), index=False)"
   ]
  },
  {
   "cell_type": "code",
   "execution_count": null,
   "metadata": {
    "collapsed": true
   },
   "outputs": [],
   "source": []
  }
 ],
 "metadata": {
  "anaconda-cloud": {},
  "kernelspec": {
   "display_name": "Python [Root]",
   "language": "python",
   "name": "Python [Root]"
  },
  "language_info": {
   "codemirror_mode": {
    "name": "ipython",
    "version": 3
   },
   "file_extension": ".py",
   "mimetype": "text/x-python",
   "name": "python",
   "nbconvert_exporter": "python",
   "pygments_lexer": "ipython3",
   "version": "3.5.2"
  }
 },
 "nbformat": 4,
 "nbformat_minor": 0
}
